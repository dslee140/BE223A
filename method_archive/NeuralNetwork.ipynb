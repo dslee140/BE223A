{
 "cells": [
  {
   "cell_type": "markdown",
   "metadata": {},
   "source": [
    "## Neural Network "
   ]
  },
  {
   "cell_type": "code",
   "execution_count": 3,
   "metadata": {
    "collapsed": false,
    "scrolled": false
   },
   "outputs": [
    {
     "name": "stdout",
     "output_type": "stream",
     "text": [
      "TRAIN: [    0     1     2 ..., 27612 27613 27614] TEST: [   35    36    39 ..., 27591 27601 27609]\n",
      "TRAIN: [    1     2     3 ..., 27612 27613 27614] TEST: [    0     5     8 ..., 27584 27593 27595]\n",
      "TRAIN: [    0     1     2 ..., 27612 27613 27614] TEST: [    4     6     7 ..., 27605 27610 27611]\n",
      "TRAIN: [    0     4     5 ..., 27611 27612 27613] TEST: [    1     2     3 ..., 27604 27608 27614]\n",
      "TRAIN: [    0     1     2 ..., 27610 27611 27614] TEST: [   15    18    20 ..., 27607 27612 27613]\n",
      "Testing fold 0:\n",
      "Accuracy score: 0.718761318363\n",
      "Recall score: 0.830148619958\n",
      "The precision: 0.686165545481\n",
      "The f1 score: 0.751321056845\n",
      "Testing fold 1:\n",
      "Accuracy score: 0.719247467438\n",
      "Recall score: 0.823230490018\n",
      "The precision: 0.680468046805\n",
      "The f1 score: 0.745072273325\n",
      "Testing fold 2:\n",
      "Accuracy score: 0.712944574833\n",
      "Recall score: 0.825150123631\n",
      "The precision: 0.68085106383\n",
      "The f1 score: 0.746087511977\n",
      "Testing fold 3:\n",
      "Accuracy score: 0.730699528815\n",
      "Recall score: 0.838391224863\n",
      "The precision: 0.687144141444\n",
      "The f1 score: 0.755270092227\n",
      "Testing fold 4:\n",
      "Accuracy score: 0.7209513435\n",
      "Recall score: 0.846460980036\n",
      "The precision: 0.676726639582\n",
      "The f1 score: 0.752136752137\n"
     ]
    }
   ],
   "source": [
    "import pandas as pd\n",
    "import numpy as np\n",
    "from sklearn.neural_network import MLPClassifier\n",
    "from sklearn.metrics import accuracy_score, recall_score, f1_score, precision_score\n",
    "\n",
    "# You may need to change these three lines according to the file you are reading and the layout of your csv file\n",
    "df = pd.read_csv('../BE223A/features_encoded_final.csv')\n",
    "X = np.array(df.iloc[:,:-3]) # features           \n",
    "y = np.array(df.iloc[:,-3])  # Labels\n",
    "\n",
    "def multi_perceptron(X, y, df):\n",
    "    \"\"\"\n",
    "    Implementation of Multilayer Perceptron\n",
    "    One-hot encoding on Weekdays feature was tried but the performance was not improved.\n",
    "    Thus, this code is still using weekdays feature as continuous variable.\n",
    "    \n",
    "    Input\n",
    "        df: Dataframe of features, folds information, original index and labels for all subjects\n",
    "        X: Array of features\n",
    "        y: Array of labels\n",
    "    \n",
    "    Output\n",
    "        K_test: Nested list of Labels for each fold\n",
    "        K_pred: Nested list of Predicted labels for each fold\n",
    "        test_pred: Nested list of index for each test fold\n",
    "        \n",
    "    \"\"\"\n",
    "    \n",
    "    # Easiest way to normalize (min-max method)\n",
    "    # Age and Weekdays features are scaled to [0, 1]\n",
    "    X[:,0] = (X[:, 0] - np.min(X[:,0]))/(np.max(X[:,0]) - np.min(X[:,0]))\n",
    "    \n",
    "    X[:,1] = (X[:, 1] - np.min(X[:,1]))/(np.max(X[:,1]) - np.min(X[:,1])) \n",
    "    # You may need to change this line if you want to one-hot encode Weekdays\n",
    "    \n",
    "\n",
    "    # classifier\n",
    "    K_test = []\n",
    "    K_pred = []\n",
    "    test_pred = []\n",
    "    for i in range(5):\n",
    "        test_index = df[df['Folds'] == i].index.values\n",
    "        train_index = df[df['Folds'] != i].index.values\n",
    "        print(\"TRAIN:\", train_index, \"TEST:\", test_index)\n",
    "        X_train, X_test = X[train_index], X[test_index]\n",
    "        y_train, y_test = y[train_index], y[test_index]\n",
    "        clf = MLPClassifier(solver='lbfgs', alpha=1e-5,\n",
    "                            hidden_layer_sizes=(10, 8, 5), random_state=1)\n",
    "        clf.fit(X_train, y_train)\n",
    "        K_test.append(y_test)\n",
    "        K_pred.append(clf.predict(X_test))\n",
    "        test_pred.append(test_index)\n",
    "    \n",
    "\n",
    "    for i, K in enumerate(K_test):\n",
    "        print(\"Testing fold {}:\".format(i))\n",
    "        print(\"Accuracy score:\", accuracy_score(K, K_pred[i]))\n",
    "        print(\"Recall score:\", recall_score(K, K_pred[i]))\n",
    "        print(\"The precision:\", precision_score(K, K_pred[i]))\n",
    "        print(\"The f1 score:\", f1_score(K, K_pred[i]))\n",
    "        \n",
    "    return K_test, K_pred, test_pred\n",
    "\n",
    "K_test, K_pred, test_pred = multi_perceptron(X, y, df)"
   ]
  },
  {
   "cell_type": "markdown",
   "metadata": {},
   "source": [
    "## Making csv file for original indices of FP and FN"
   ]
  },
  {
   "cell_type": "code",
   "execution_count": null,
   "metadata": {
    "collapsed": true
   },
   "outputs": [],
   "source": [
    "from itertools import compress\n",
    "true_list = []\n",
    "false_list = []\n",
    "FP_list = []\n",
    "FN_list = []\n",
    "\n",
    "for i, pred in enumerate(test_pred):\n",
    "    FP_bools = np.logical_and(K_pred[i] == 1, K_test[i] == 0)\n",
    "    FN_bools = np.logical_and(K_pred[i] == 0, K_test[i] == 1)\n",
    "    FP_list.append(list(compress(pred, FP_bools)))\n",
    "    FN_list.append(list(compress(pred, FN_bools)))\n",
    "    \n",
    "\n",
    "FP_flat = [item for sublist in FP_list for item in sublist]\n",
    "FN_flat = [item for sublist in FN_list for item in sublist]\n",
    "\n",
    "# Initialization list of FN and FP\n",
    "FP_pred = []\n",
    "FN_pred = []\n",
    "\n",
    "FP_pred = pd.DataFrame({'FP': sorted(np.array(df.loc[FP_flat]['orig_index']))})\n",
    "FN_pred = pd.DataFrame({'FN': sorted(np.array(df.loc[FN_flat]['orig_index']))})\n",
    "\n",
    "df2 = pd.DataFrame()\n",
    "df2 = pd.concat([FP_pred, FN_pred], ignore_index=False, axis=1)\n",
    "df2.to_csv('../Midterm/FP_FN_indeces_James2.csv', index=False)"
   ]
  },
  {
   "cell_type": "markdown",
   "metadata": {},
   "source": [
    "## Useful function for making confusion matrix\n",
    "The only line that need to change: \"cnf_matrix = confusion_matrix(K_test[3], K_pred[3])\""
   ]
  },
  {
   "cell_type": "code",
   "execution_count": 5,
   "metadata": {
    "collapsed": false
   },
   "outputs": [
    {
     "name": "stdout",
     "output_type": "stream",
     "text": [
      "Automatically created module for IPython interactive environment\n",
      "Confusion matrix, without normalization\n",
      "[[1739 1044]\n",
      " [ 442 2293]]\n",
      "Normalized confusion matrix\n",
      "[[ 0.62  0.38]\n",
      " [ 0.16  0.84]]\n"
     ]
    },
    {
     "data": {
      "image/png": "[encoded data removed]",
      "text/plain": [
       "<matplotlib.figure.Figure at 0x1209a90b8>"
      ]
     },
     "metadata": {},
     "output_type": "display_data"
    },
    {
     "data": {
      "image/png": "[encoded data removed]",
      "text/plain": [
       "<matplotlib.figure.Figure at 0x1209a96a0>"
      ]
     },
     "metadata": {},
     "output_type": "display_data"
    }
   ],
   "source": [
    "print(__doc__)\n",
    "\n",
    "import itertools\n",
    "import numpy as np\n",
    "import matplotlib.pyplot as plt\n",
    "\n",
    "from sklearn import svm, datasets\n",
    "from sklearn.model_selection import train_test_split\n",
    "from sklearn.metrics import confusion_matrix\n",
    "\n",
    "class_names = ['Show', 'NoShow']\n",
    "\n",
    "def plot_confusion_matrix(cm, classes,\n",
    "                          normalize=False,\n",
    "                          title='Confusion matrix',\n",
    "                          cmap=plt.cm.Blues):\n",
    "    \"\"\"\n",
    "    This function prints and plots the confusion matrix.\n",
    "    Normalization can be applied by setting `normalize=True`.\n",
    "    \"\"\"\n",
    "    if normalize:\n",
    "        cm = cm.astype('float') / cm.sum(axis=1)[:, np.newaxis]\n",
    "        print(\"Normalized confusion matrix\")\n",
    "    else:\n",
    "        print('Confusion matrix, without normalization')\n",
    "\n",
    "    print(cm)\n",
    "\n",
    "    plt.imshow(cm, interpolation='nearest', cmap=cmap)\n",
    "    plt.title(title)\n",
    "    plt.colorbar()\n",
    "    tick_marks = np.arange(len(classes))\n",
    "    plt.xticks(tick_marks, classes, rotation=45)\n",
    "    plt.yticks(tick_marks, classes)\n",
    "\n",
    "    fmt = '.2f' if normalize else 'd'\n",
    "    thresh = cm.max() / 2.\n",
    "    for i, j in itertools.product(range(cm.shape[0]), range(cm.shape[1])):\n",
    "        plt.text(j, i, format(cm[i, j], fmt),\n",
    "                 horizontalalignment=\"center\",\n",
    "                 color=\"white\" if cm[i, j] > thresh else \"black\")\n",
    "\n",
    "    plt.tight_layout()\n",
    "    plt.ylabel('True label')\n",
    "    plt.xlabel('Predicted label')\n",
    "\n",
    "# Compute confusion matrix\n",
    "cnf_matrix = confusion_matrix(K_test[3], K_pred[3]) # Making plot for fold 3\n",
    "np.set_printoptions(precision=2)\n",
    "\n",
    "# Plot non-normalized confusion matrix\n",
    "plt.figure()\n",
    "plot_confusion_matrix(cnf_matrix, classes=class_names,\n",
    "                      title='Confusion matrix, without normalization')\n",
    "\n",
    "# Plot normalized confusion matrix\n",
    "plt.figure()\n",
    "plot_confusion_matrix(cnf_matrix, classes=class_names, normalize=True,\n",
    "                      title='Normalized confusion matrix')\n",
    "\n",
    "plt.show()"
   ]
  }
 ],
 "metadata": {
  "kernelspec": {
   "display_name": "Python [conda env:py_35]",
   "language": "python",
   "name": "conda-env-py_35-py"
  },
  "language_info": {
   "codemirror_mode": {
    "name": "ipython",
    "version": 3
   },
   "file_extension": ".py",
   "mimetype": "text/x-python",
   "name": "python",
   "nbconvert_exporter": "python",
   "pygments_lexer": "ipython3",
   "version": "3.5.2"
  }
 },
 "nbformat": 4,
 "nbformat_minor": 1
}
