{
 "cells": [
  {
   "cell_type": "code",
   "execution_count": null,
   "metadata": {
    "collapsed": true
   },
   "outputs": [],
   "source": [
    "#Input Parameters\n",
    "\n",
    "dbname = \"223ADB.db\"\n",
    "patient_key = \"Patients_ID\"\n",
    "appointment_key = \"Exam_ID\"\n",
    "weather_key = \"Dayofyear\""
   ]
  },
  {
   "cell_type": "code",
   "execution_count": null,
   "metadata": {
    "collapsed": true
   },
   "outputs": [],
   "source": [
    "connection = new_connection(dbname)"
   ]
  },
  {
   "cell_type": "code",
   "execution_count": null,
   "metadata": {
    "collapsed": true
   },
   "outputs": [],
   "source": [
    "#Generating SQL Strings\n",
    "\n",
    "patients_string=generate_string(\"patients\", patients , patient_key, [])\n",
    "appointments_string=generate_string(\"appointments\", appointments, appointment_key, [patient_key, weather_key])\n",
    "weather_string=generate_string(\"weather\", weather, \"Dayofyear\", [])"
   ]
  },
  {
   "cell_type": "code",
   "execution_count": null,
   "metadata": {
    "collapsed": true
   },
   "outputs": [],
   "source": [
    "# Creating tables\n",
    "\n",
    "create_table(dbname, patients_string)\n",
    "create_table(dbname, appointments_string)\n",
    "create_table(dbname, weather_string)"
   ]
  },
  {
   "cell_type": "code",
   "execution_count": null,
   "metadata": {
    "collapsed": true
   },
   "outputs": [],
   "source": [
    "# Creating foreign keys\n",
    "\n",
    "fkey1=foreignkey(\"appointments\", patient_key, \"patients\", patient_key)\n",
    "fkey2=foreignkey(\"appointments\", weather_key, \"weather\", weather_key)\n"
   ]
  },
  {
   "cell_type": "code",
   "execution_count": null,
   "metadata": {
    "collapsed": true
   },
   "outputs": [],
   "source": [
    "# Creating foreign key columns\n",
    "\n",
    "create_key(dbname, fkey1)\n",
    "create_key(dbname, fkey2)"
   ]
  },
  {
   "cell_type": "code",
   "execution_count": null,
   "metadata": {
    "collapsed": true
   },
   "outputs": [],
   "source": [
    "# Push dataframe into database\n",
    "\n",
    "push_dataframe(patients,dbname, \"patients\")\n",
    "push_dataframe(appointments, dbname, \"appointments\")\n",
    "push_dataframe(weather,dbname, \"weather\")"
   ]
  }
 ],
 "metadata": {
  "kernelspec": {
   "display_name": "Python 3",
   "language": "python",
   "name": "python3"
  },
  "language_info": {
   "codemirror_mode": {
    "name": "ipython",
    "version": 3
   },
   "file_extension": ".py",
   "mimetype": "text/x-python",
   "name": "python",
   "nbconvert_exporter": "python",
   "pygments_lexer": "ipython3",
   "version": "3.6.2"
  }
 },
 "nbformat": 4,
 "nbformat_minor": 2
}
