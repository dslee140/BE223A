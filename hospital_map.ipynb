{
 "cells": [
  {
   "cell_type": "code",
   "execution_count": 3,
   "metadata": {
    "collapsed": true
   },
   "outputs": [],
   "source": [
    "import numpy as np\n",
    "import pandas as pd\n",
    "df = pd.read_csv(\"./data/be223a_dataset.csv\")\n",
    "df = df[[\"OrgCode\", \"Modality\", \"DepartmentCode\"]]"
   ]
  },
  {
   "cell_type": "code",
   "execution_count": 7,
   "metadata": {
    "collapsed": true
   },
   "outputs": [],
   "source": [
    "df.drop_duplicates(inplace=True)"
   ]
  },
  {
   "cell_type": "code",
   "execution_count": 21,
   "metadata": {
    "collapsed": true
   },
   "outputs": [],
   "source": [
    "orgs = df.OrgCode.unique()\n",
    "json_dict = {}\n",
    "for org in orgs:\n",
    "    df_org = df[df.OrgCode == org]\n",
    "    modalities = df_org.Modality.unique()\n",
    "    mod_dict = {}\n",
    "    for modality in modalities:\n",
    "        df_mod = df_org[df_org.Modality == modality]\n",
    "        departments = df_mod.DepartmentCode.unique()\n",
    "        mod_dict[modality] = list(departments)\n",
    "    json_dict[org] = mod_dict"
   ]
  },
  {
   "cell_type": "code",
   "execution_count": 27,
   "metadata": {
    "collapsed": true
   },
   "outputs": [],
   "source": [
    "import json\n",
    "with open('hospital_map.json', 'w') as outfile:\n",
    "    json.dump(json_dict, outfile)"
   ]
  },
  {
   "cell_type": "code",
   "execution_count": 32,
   "metadata": {
    "collapsed": true
   },
   "outputs": [],
   "source": [
    "import pickle\n",
    "pickle.dump(json_dict, open(\"hospital_map.dat\", \"wb\"))\n",
    "json_dict_new =pickle.load(open(\"hospital_map.dat\", \"rb\"))"
   ]
  },
  {
   "cell_type": "code",
   "execution_count": null,
   "metadata": {
    "collapsed": true
   },
   "outputs": [],
   "source": []
  }
 ],
 "metadata": {
  "kernelspec": {
   "display_name": "Python 3",
   "language": "python",
   "name": "python3"
  },
  "language_info": {
   "codemirror_mode": {
    "name": "ipython",
    "version": 3
   },
   "file_extension": ".py",
   "mimetype": "text/x-python",
   "name": "python",
   "nbconvert_exporter": "python",
   "pygments_lexer": "ipython3",
   "version": "3.6.1"
  }
 },
 "nbformat": 4,
 "nbformat_minor": 2
}
