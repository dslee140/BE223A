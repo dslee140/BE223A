{
 "cells": [
  {
   "cell_type": "code",
   "execution_count": null,
   "metadata": {
    "collapsed": true
   },
   "outputs": [],
   "source": [
    "import pandas as pd\n",
    "import sqlite3"
   ]
  },
  {
   "cell_type": "code",
   "execution_count": null,
   "metadata": {
    "collapsed": true
   },
   "outputs": [],
   "source": [
    "def new_connection(dbfile):\n",
    "    \n",
    "    \"\"\" Function to setup a new connection to a database (SQLite).\n",
    "    \n",
    "    Arguments:\n",
    "    dbfile (char): Specify the name of the database to be created\n",
    "    \n",
    "    Returns:\n",
    "    Connection to database\"\"\"\n",
    "    \n",
    "    conn=sqlite3.connect(dbfile)\n",
    "    return conn"
   ]
  },
  {
   "cell_type": "code",
   "execution_count": null,
   "metadata": {
    "collapsed": true
   },
   "outputs": [],
   "source": [
    "def type_col(col_type):\n",
    "    \n",
    "    \"\"\" Function to return the type of the column of a dataframe.\n",
    "    \n",
    "    Arguments:\n",
    "    col_type (char): Datatype of the column in a dataframe\n",
    "    \n",
    "    Returns:\n",
    "    Datatype to be created in SQL (this will be concatenated with the string)\n",
    "    \n",
    "    \"\"\"\n",
    "    if col_type==\"int64\":\n",
    "        type1=\"INTEGER(64)\"\n",
    "    elif col_type==\"float64\":\n",
    "        type1=\"FLOAT(64)\"\n",
    "    else:\n",
    "        type1=\"VARCHAR(64)\"\n",
    "    return type1"
   ]
  },
  {
   "cell_type": "code",
   "execution_count": null,
   "metadata": {
    "collapsed": true
   },
   "outputs": [],
   "source": [
    "def generate_string(tablename, df, primarykey):\n",
    "    \n",
    "    \"\"\" Function to generate the SQL command as a string. This function can be used when only primary keys have to be created and there are no foreign keys associated.\n",
    "    \n",
    "    Arguments:\n",
    "    tablename (char): Name of the table to be created in the database\n",
    "    df (dataframe): Parsed dataframe output from which field names for the database will be extracted from the column names\n",
    "    primarykey (char): Primary unique key associated with the table, this should be one of the columnnames from the dataframe\n",
    "       \n",
    "    \n",
    "    Returns:\n",
    "    An SQL command as a string which can be executed to create tables\n",
    "    \n",
    "    \"\"\"\n",
    "    \n",
    "    columnnames=list(df.columns.values)\n",
    "    \n",
    "    sql_string=\"CREATE TABLE IF NOT EXISTS\"+ \" \"+ tablename + \"(\"\n",
    "      \n",
    "    for i in range(len(columnnames)):\n",
    "        \n",
    "        if i==len(columnnames)-1:\n",
    "            col=columnnames[i]\n",
    "            col_type=df[columnnames[i]].dtype\n",
    "        \n",
    "            if col==primarykey:\n",
    "                coltype=type2(col_type)\n",
    "                sql_string = sql_string + col + \" \" + coltype + \" \" + \"PRIMARY KEY\" + \" \" + \")\" + \";\" \n",
    "            else:\n",
    "                coltype=type2(col_type)\n",
    "                sql_string= sql_string + col + \" \" + coltype + \" \" + \")\" + \";\"\n",
    "        \n",
    "        else:\n",
    "            \n",
    "            col=columnnames[i]\n",
    "            col_type=df[columnnames[i]].dtype\n",
    "        \n",
    "            if col==primarykey:\n",
    "                coltype=type2(col_type)\n",
    "                sql_string = sql_string + col + \" \" + coltype + \" \" + \"PRIMARY KEY\" + \",\"\n",
    "            else:\n",
    "                coltype=type2(col_type)\n",
    "                sql_string= sql_string + col + \" \" + coltype + \",\"\n",
    "    \n",
    "    return (sql_string)"
   ]
  },
  {
   "cell_type": "code",
   "execution_count": null,
   "metadata": {
    "collapsed": true
   },
   "outputs": [],
   "source": [
    "def generate_string_foreign(tablename, df, primarykey, foreignkey, foreigntable, foreigncolumn):\n",
    "    \n",
    "    \"\"\" Function to generate the SQL command as a string. This function can be used when a table has to be created with primary and foreign keys.\n",
    "    \n",
    "    Arguments:\n",
    "    tablename (char): Name of the table to be created in the database\n",
    "    df (dataframe): Parsed dataframe output from which field names for the database will be extracted from the column names\n",
    "    primarykey (char): Primary unique key associated with the table, this should be one of the columnnames from the dataframe\n",
    "    foreignkey (char): Name of the column in the table which will be the foreignkey\n",
    "    foreigntable (char): Name of the parent table which contains the association of the foreignkey \n",
    "    foreigncolumn (char): Name of the associated column in the foreigntable \n",
    "    \n",
    "    Returns:\n",
    "    An SQL command as a string which can be executed to create tables\n",
    "    \n",
    "    \"\"\"\n",
    "    \n",
    "    columnnames=list(df.columns.values)\n",
    "    \n",
    "    sql_string=\"CREATE TABLE IF NOT EXISTS\"+ \" \"+ tablename + \"(\"\n",
    "    \n",
    "    for i in range(len(columnnames)):\n",
    "        \n",
    "        if i==len(columnnames)-1:\n",
    "            col=columnnames[i]\n",
    "            col_type=df[columnnames[i]].dtype\n",
    "        \n",
    "            if col==primarykey:\n",
    "                coltype=type2(col_type)\n",
    "                sql_string = sql_string + col + \" \" + coltype + \" \" + \"PRIMARY KEY\" + \" \" + \")\" + \";\"\n",
    "            elif col==foreignkey:\n",
    "                coltype=type2(col_type)\n",
    "                sql_string= sql_string + col + \" \" + coltype + \",\"\n",
    "                sql_string = sql_string + \"FOREIGN KEY\" + \" \" + \"(\" + foreignkey + \")\" + \" \" + \"REFERENCES\" + \" \" + foreigntable + \" \" + \"(\" + foreigncolumn + \")\" + \" \" + \")\" + \";\"\n",
    "                \n",
    "            else:\n",
    "                coltype=type2(col_type)\n",
    "                sql_string= sql_string + col + \" \" + coltype + \" \" + \")\" + \";\"\n",
    "        \n",
    "        else:\n",
    "            \n",
    "            col=columnnames[i]\n",
    "            col_type=df[columnnames[i]].dtype\n",
    "        \n",
    "            if col==primarykey:\n",
    "                coltype=type2(col_type)\n",
    "                sql_string = sql_string + col + \" \" + coltype + \" \" + \"PRIMARY KEY\" + \",\"\n",
    "            elif col==foreignkey:\n",
    "                coltype=type2(col_type)\n",
    "                sql_string= sql_string + col + \" \" + coltype + \",\"\n",
    "                sql_string = sql_string + \"FOREIGN KEY\" + \" \" + \"(\" + foreignkey + \")\" + \" \" + \"REFERENCES\" +\" \" + foreigntable + \" \" + \"(\" + foreigncolumn + \")\" + \",\"\n",
    "            else:\n",
    "                coltype=type2(col_type)\n",
    "                sql_string= sql_string + col + \" \" + coltype + \",\"\n",
    "    \n",
    "    return (sql_string)"
   ]
  },
  {
   "cell_type": "code",
   "execution_count": null,
   "metadata": {
    "collapsed": true
   },
   "outputs": [],
   "source": [
    "def create_table(database, create_new_table_string):\n",
    "    \n",
    "    \"\"\" Function to create a new table in SQLite database.\n",
    "     \n",
    "    Arguments:\n",
    "    database (char): Specify the name of the database in which the table has to be created\n",
    "    create_new_table_string: SQL command to generate the table - spcify the name of table, fields (use generate_string function)\n",
    "    \n",
    "    Returns:\n",
    "    The function creates a table in the specified database\n",
    "    \"\"\"\n",
    "    \n",
    "    connection = sqlite3.connect(database)\n",
    "    cursor=connection.cursor()\n",
    "    cursor.execute(create_new_table_string)\n",
    "    connection.commit()\n",
    "    connection.close()"
   ]
  },
  {
   "cell_type": "code",
   "execution_count": null,
   "metadata": {
    "collapsed": true
   },
   "outputs": [],
   "source": [
    "def push_dataframe(df,database, tablename):\n",
    "    \"\"\" Function to push data in a dataframe into a table in the database.\n",
    "    \n",
    "    Arguments:\n",
    "    df (dataframe): Dataframe which contains data to be pushed into tables\n",
    "    database (char): Specify name of the database in which the table exists\n",
    "    tablename (char): Name of the table in the specified database into which data has to be pushed \n",
    "    \n",
    "    Returns:\n",
    "    The function pushes data in the dataframe into the specified table\n",
    "    \"\"\"\n",
    "    connection = sqlite3.connect(database)\n",
    "    cursor = connection.cursor()\n",
    "    df.to_sql(tablename,connection, if_exists=\"replace\")\n",
    "    connection.commit()\n",
    "    connection.close()"
   ]
  },
  {
   "cell_type": "code",
   "execution_count": null,
   "metadata": {
    "collapsed": true
   },
   "outputs": [],
   "source": [
    "def query_data(database, query):\n",
    "    \"\"\" Function to query data from the database.\n",
    "    \n",
    "    Arguments:\n",
    "    database (char): Specify name of the database from which data has to be retrieved\n",
    "    query (char): SQL command to query data\n",
    "    \n",
    "    Returns:\n",
    "    The function returns the queried data in the dataframe format\n",
    "    \"\"\"\n",
    "    connection = sqlite3.connect(database)\n",
    "    cursor = connection.cursor()\n",
    "    \n",
    "    data=pd.read_sql(query,connection)\n",
    "    connection.commit()\n",
    "    connection.close()\n",
    "    return data"
   ]
  },
  {
   "cell_type": "code",
   "execution_count": null,
   "metadata": {
    "collapsed": true
   },
   "outputs": [],
   "source": []
  }
 ],
 "metadata": {
  "kernelspec": {
   "display_name": "Python 3",
   "language": "python",
   "name": "python3"
  },
  "language_info": {
   "codemirror_mode": {
    "name": "ipython",
    "version": 3
   },
   "file_extension": ".py",
   "mimetype": "text/x-python",
   "name": "python",
   "nbconvert_exporter": "python",
   "pygments_lexer": "ipython3",
   "version": "3.6.2"
  }
 },
 "nbformat": 4,
 "nbformat_minor": 2
}
