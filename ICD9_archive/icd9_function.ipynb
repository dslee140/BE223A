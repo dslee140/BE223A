{
 "cells": [
  {
   "cell_type": "code",
   "execution_count": null,
   "metadata": {
    "collapsed": true
   },
   "outputs": [],
   "source": [
    "'''\n",
    "OUTLINE OF FUNCTION\n",
    "- Read df\n",
    "- Deletes digits after three spaces <- use str.partition\n",
    "- Creates dictionary for each of the ICD9 umbrella terms\n",
    "- Creates new icd9_group column that corresponds with original ICD9 codes\n",
    "'''"
   ]
  },
  {
   "cell_type": "code",
   "execution_count": null,
   "metadata": {
    "collapsed": true
   },
   "outputs": [],
   "source": [
    "import numpy as np\n",
    "import pandas as pd\n",
    "import matplotlib.pyplot as plt\n",
    "%matplotlib inline\n",
    "\n",
    "df = pd.read_csv('./icd9_index_2cols.csv') #Use exam database"
   ]
  },
  {
   "cell_type": "code",
   "execution_count": null,
   "metadata": {
    "collapsed": true
   },
   "outputs": [],
   "source": [
    "def icd9(df):\n",
    "\n",
    "    df['icd9'] = df['icd9'].astype(str) #Convert icd9 column to string\n",
    "    df['icd9'] = df['icd9'].str.partition('.')[0] #Use the delimiter '.' to partition the string\n",
    "                                                  #and only keep the elements before the delimiter\n",
    "\n",
    "    terms = {}\n",
    "    def icd9_group(label, low, high):\n",
    "        lst = np.arange(low, high+1, 1).astype(str).tolist()\n",
    "        for i in lst:\n",
    "            terms[i] = label\n",
    "\n",
    "        return None\n",
    "\n",
    "    icd9_group('blood', 280, 289)\n",
    "    icd9_group('circulatory', 390, 459)\n",
    "    icd9_group('congenital', 740, 759)\n",
    "    icd9_group('digestive', 520, 579)\n",
    "    icd9_group('enmi', 240, 279)\n",
    "    icd9_group('genitourinary', 580, 629)\n",
    "    icd9_group('illdefined', 780, 799)\n",
    "    icd9_group('infectious', 0 , 139)\n",
    "    icd9_group('injury', 800, 999)\n",
    "    icd9_group('mental', 290, 319)\n",
    "    icd9_group('musculoskeletal', 710, 739)\n",
    "    icd9_group('neoplasms', 140, 239)\n",
    "    icd9_group('nervous', 320, 389)\n",
    "    icd9_group('obstetrics', 630, 679)\n",
    "    icd9_group('perinatal', 760, 779)\n",
    "    icd9_group('respiratory', 460, 519)\n",
    "    icd9_group('skin', 680, 709)\n",
    "    terms['blank'] = 'nan'\n",
    "\n",
    "    df['icd9_group'] = [terms.get(i, 'supplemental') for i in df['icd9']]\n",
    "\n",
    "return df['icd9_group']"
   ]
  }
 ],
 "metadata": {
  "kernelspec": {
   "display_name": "Python 3",
   "language": "python",
   "name": "python3"
  },
  "language_info": {
   "codemirror_mode": {
    "name": "ipython",
    "version": 3
   },
   "file_extension": ".py",
   "mimetype": "text/x-python",
   "name": "python",
   "nbconvert_exporter": "python",
   "pygments_lexer": "ipython3",
   "version": "3.6.2"
  }
 },
 "nbformat": 4,
 "nbformat_minor": 2
}
