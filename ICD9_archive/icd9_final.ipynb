{
 "cells": [
  {
   "cell_type": "code",
   "execution_count": null,
   "metadata": {
    "collapsed": true
   },
   "outputs": [],
   "source": [
    "'''\n",
    "OUTLINE\n",
    "Delete digits after three spaces <- use str.partition\n",
    "Index matching: icd9 code with umbrella term <- use groupby\n",
    "Create dictionary for each of the umbrella groups for new cases\n",
    "'''"
   ]
  },
  {
   "cell_type": "code",
   "execution_count": 16,
   "metadata": {},
   "outputs": [
    {
     "name": "stdout",
     "output_type": "stream",
     "text": [
      "Patient ID     object\n",
      "icd9           object\n",
      "icd9_group    float64\n",
      "dtype: object\n"
     ]
    }
   ],
   "source": [
    "import numpy as np\n",
    "import pandas as pd\n",
    "import matplotlib.pyplot as plt\n",
    "%matplotlib inline\n",
    "\n",
    "df = pd.read_csv('./icd9_index_2cols.csv')\n",
    "print(df.dtypes)"
   ]
  },
  {
   "cell_type": "code",
   "execution_count": 2,
   "metadata": {
    "scrolled": true
   },
   "outputs": [
    {
     "name": "stdout",
     "output_type": "stream",
     "text": [
      "0                              729.5|\n",
      "1                              447.6|\n",
      "2                              729.5|\n",
      "3                              225.2|\n",
      "4                  351.8|368.8|784.0|\n",
      "5                             V76.12|\n",
      "6                              626.2|\n",
      "7                             V76.12|\n",
      "8                       729.5|729.81|\n",
      "9                       729.5|729.81|\n",
      "10                   511.9|428.0|514|\n",
      "11                            959.01|\n",
      "12                            959.09|\n",
      "13               518.0|512.89|793.19|\n",
      "14                             805.4|\n",
      "15          511.9|805.4|807.09|860.0|\n",
      "16               518.0|512.89|793.19|\n",
      "17                     733.13|789.30|\n",
      "18                             714.0|\n",
      "19                             599.0|\n",
      "20                             625.6|\n",
      "21                             518.0|\n",
      "22       V45.81|414.01|V58.81|V58.82|\n",
      "23                     414.01|V58.81|\n",
      "24         511.9|518.0|414.01|V58.81|\n",
      "25                       723.1|723.4|\n",
      "26                             218.9|\n",
      "27                             218.9|\n",
      "28                             959.3|\n",
      "29                             959.6|\n",
      "                     ...             \n",
      "77414                          786.2|\n",
      "77415                         733.00|\n",
      "77416                         789.39|\n",
      "77417                          V42.0|\n",
      "77418                         786.50|\n",
      "77419                    780.4|781.2|\n",
      "77420            722.52|805.4|202.80|\n",
      "77421                    780.4|781.2|\n",
      "77422                    780.4|781.2|\n",
      "77423                   627.9|733.00|\n",
      "77424                  722.51|757.39|\n",
      "77425                         715.95|\n",
      "77426                         715.95|\n",
      "77427      721.3|721.3|722.52|722.52|\n",
      "77428                          241.1|\n",
      "77429             719.46|724.5|V45.4|\n",
      "77430                         719.46|\n",
      "77431                     786.07|490|\n",
      "77432                         786.50|\n",
      "77433                          790.6|\n",
      "77434              577.8|785.6|789.2|\n",
      "77435              577.8|785.6|789.2|\n",
      "77436                  959.01|780.97|\n",
      "77437                  719.45|722.52|\n",
      "77438                          191.9|\n",
      "77439                          151.9|\n",
      "77440        511.9|V58.81|514|793.19|\n",
      "77441                          V55.1|\n",
      "77442                  V58.81|793.19|\n",
      "77443                         V58.82|\n",
      "Name: icd9, Length: 77444, dtype: object\n"
     ]
    }
   ],
   "source": [
    "#Convert column row to string\n",
    "\n",
    "df['icd9'] = df['icd9'].astype(str)\n",
    "print(df['icd9'])"
   ]
  },
  {
   "cell_type": "code",
   "execution_count": 12,
   "metadata": {},
   "outputs": [
    {
     "name": "stdout",
     "output_type": "stream",
     "text": [
      "0        729\n",
      "1        447\n",
      "2        729\n",
      "3        225\n",
      "4        351\n",
      "5        V76\n",
      "6        626\n",
      "7        V76\n",
      "8        729\n",
      "9        729\n",
      "10       511\n",
      "11       959\n",
      "12       959\n",
      "13       518\n",
      "14       805\n",
      "15       511\n",
      "16       518\n",
      "17       733\n",
      "18       714\n",
      "19       599\n",
      "20       625\n",
      "21       518\n",
      "22       V45\n",
      "23       414\n",
      "24       511\n",
      "25       723\n",
      "26       218\n",
      "27       218\n",
      "28       959\n",
      "29       959\n",
      "        ... \n",
      "77414    786\n",
      "77415    733\n",
      "77416    789\n",
      "77417    V42\n",
      "77418    786\n",
      "77419    780\n",
      "77420    722\n",
      "77421    780\n",
      "77422    780\n",
      "77423    627\n",
      "77424    722\n",
      "77425    715\n",
      "77426    715\n",
      "77427    721\n",
      "77428    241\n",
      "77429    719\n",
      "77430    719\n",
      "77431    786\n",
      "77432    786\n",
      "77433    790\n",
      "77434    577\n",
      "77435    577\n",
      "77436    959\n",
      "77437    719\n",
      "77438    191\n",
      "77439    151\n",
      "77440    511\n",
      "77441    V55\n",
      "77442    V58\n",
      "77443    V58\n",
      "Name: icd9, Length: 77444, dtype: object\n"
     ]
    }
   ],
   "source": [
    "#Use the delimiter '.' to partition the string and only keep the elements before the delimiter\n",
    "\n",
    "df['icd9'] = df['icd9'].str.partition('.')[0]\n",
    "print(df['icd9'])"
   ]
  },
  {
   "cell_type": "code",
   "execution_count": null,
   "metadata": {
    "collapsed": true
   },
   "outputs": [],
   "source": [
    "'''\n",
    "#Use groupby to match icd9 column with icd9_group column\n",
    "\n",
    "umbrella_term = df['icd9'].groupby(df['icd9_group'])\n",
    "list(df['icd9'].groupby(df['icd9_group'])) #Display the grouping\n",
    "'''\n",
    "\n",
    "df['icd9'] = df['icd9'].astype(str)\n",
    "df['icd9'] = df['icd9'].str.partition('.')[0]\n",
    "df['icd9'] = df['icd9'].str.partition('|')[0]"
   ]
  },
  {
   "cell_type": "code",
   "execution_count": 3,
   "metadata": {
    "collapsed": true
   },
   "outputs": [],
   "source": [
    "#Function creates new column named icd9_group containing corresponding umbrella terms\n",
    "terms = {}\n",
    "def icd9_group(label, low, high):\n",
    "    lst = np.arange(low, high+1, 1).astype(str).tolist()\n",
    "    for i in lst:\n",
    "        terms[i] = label\n",
    "   \n",
    "    return None\n",
    "\n",
    "icd9_group('blood', 280, 289)\n",
    "icd9_group('circulatory', 390, 459)\n",
    "icd9_group('congenital', 740, 759)\n",
    "icd9_group('digestive', 520, 579)\n",
    "icd9_group('enmi', 240, 279)\n",
    "icd9_group('genitourinary', 580, 629)\n",
    "icd9_group('illdefined', 780, 799)\n",
    "icd9_group('infectious', 0 , 139)\n",
    "icd9_group('injury', 800, 999)\n",
    "icd9_group('mental', 290, 319)\n",
    "icd9_group('musculoskeletal', 710, 739)\n",
    "icd9_group('neoplasms', 140, 239)\n",
    "icd9_group('nervous', 320, 389)\n",
    "icd9_group('obstetrics', 630, 679)\n",
    "icd9_group('perinatal', 760, 779)\n",
    "icd9_group('respiratory', 460, 519)\n",
    "icd9_group('skin', 680, 709)\n",
    "terms['blank'] = 'nan'\n",
    "#icd9_group('supplemental', [^0-9])"
   ]
  },
  {
   "cell_type": "code",
   "execution_count": 14,
   "metadata": {
    "scrolled": true
   },
   "outputs": [],
   "source": [
    "df['icd9_group'] = [terms.get(i, 'supplemental') for i in df['icd9']]"
   ]
  },
  {
   "cell_type": "code",
   "execution_count": 15,
   "metadata": {},
   "outputs": [
    {
     "data": {
      "text/plain": [
       "0        729\n",
       "1        447\n",
       "2        729\n",
       "3        225\n",
       "4        351\n",
       "5        V76\n",
       "6        626\n",
       "7        V76\n",
       "8        729\n",
       "9        729\n",
       "10       511\n",
       "11       959\n",
       "12       959\n",
       "13       518\n",
       "14       805\n",
       "15       511\n",
       "16       518\n",
       "17       733\n",
       "18       714\n",
       "19       599\n",
       "20       625\n",
       "21       518\n",
       "22       V45\n",
       "23       414\n",
       "24       511\n",
       "25       723\n",
       "26       218\n",
       "27       218\n",
       "28       959\n",
       "29       959\n",
       "        ... \n",
       "77414    786\n",
       "77415    733\n",
       "77416    789\n",
       "77417    V42\n",
       "77418    786\n",
       "77419    780\n",
       "77420    722\n",
       "77421    780\n",
       "77422    780\n",
       "77423    627\n",
       "77424    722\n",
       "77425    715\n",
       "77426    715\n",
       "77427    721\n",
       "77428    241\n",
       "77429    719\n",
       "77430    719\n",
       "77431    786\n",
       "77432    786\n",
       "77433    790\n",
       "77434    577\n",
       "77435    577\n",
       "77436    959\n",
       "77437    719\n",
       "77438    191\n",
       "77439    151\n",
       "77440    511\n",
       "77441    V55\n",
       "77442    V58\n",
       "77443    V58\n",
       "Name: icd9, Length: 77444, dtype: object"
      ]
     },
     "execution_count": 15,
     "metadata": {},
     "output_type": "execute_result"
    }
   ],
   "source": [
    "df['icd9']"
   ]
  },
  {
   "cell_type": "code",
   "execution_count": 9,
   "metadata": {},
   "outputs": [
    {
     "data": {
      "text/plain": [
       "'a'"
      ]
     },
     "execution_count": 9,
     "metadata": {},
     "output_type": "execute_result"
    }
   ],
   "source": [
    "terms.get(5,'a')"
   ]
  },
  {
   "cell_type": "code",
   "execution_count": null,
   "metadata": {
    "collapsed": true
   },
   "outputs": [],
   "source": []
  }
 ],
 "metadata": {
  "kernelspec": {
   "display_name": "Python 3",
   "language": "python",
   "name": "python3"
  },
  "language_info": {
   "codemirror_mode": {
    "name": "ipython",
    "version": 3
   },
   "file_extension": ".py",
   "mimetype": "text/x-python",
   "name": "python",
   "nbconvert_exporter": "python",
   "pygments_lexer": "ipython3",
   "version": "3.6.2"
  }
 },
 "nbformat": 4,
 "nbformat_minor": 2
}
